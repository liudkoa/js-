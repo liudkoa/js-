{
 "cells": [
  {
   "cell_type": "code",
   "execution_count": 1,
   "metadata": {},
   "outputs": [],
   "source": [
    "import requests"
   ]
  },
  {
   "cell_type": "code",
   "execution_count": 2,
   "metadata": {},
   "outputs": [],
   "source": [
    "data='iVBORw0KGgoAAAANSUhEUgAAABQAAAAdCAYAAACqhkzFAAAAAXNSR0IArs4c6QAAAARnQU1BAACxjwv8YQUAAAAJcEhZcwAADsQAAA7EAZUrDhsAAALaSURBVEhLrZVPSBRRHMe/O+rOuuaUyRoyBlGQfw5lh9xTekg8qIdMKSsQFKRAD0WUROhBCIlSBD1YQsJKQSB1iRa8VRf1Up4UQiNcRVw1nXVdx3V3euP+ZnZmR9EVP/CY3/vx5sPMe+/3nu3suYsKjhGrUCxB5GErNssKERIEyDzlIYOX/MgY+4r0zm5w85ROwCRU2j1Yu+fGhi7ZG072Iau3Bc6BacrE4ejJ6EKgySyzy+yrdptpIKJ8HlbahrHZKFImjnEcIeHU6FuIlfk4U3AJObstH2L9C7hmJKTQKEBg0h7sUE/DJLT5x5FbeRWZ99kcTVFSY9wDR/kN5Pxkn6vBFyPUTjFhEPYjs6YBqYkiE/NIfTeODOqpyEUNFMUwCNmy7bNyJr5M787pfuwxhwfhh+1YhWIxtgWKGXafh6IYSQuVjssIUgxMwdFLIZGc8IEHKxV5iFL3xGg37AnzfnAtu68jUlYFueIa1i4IiFDaOfYa2XcGqRfHKnzlxVzdeepYSZVmkfXyERwfrGWnktQvc7If6T62yrxhVRKwCvX6jTet3KK8C4EiN5Y6hrEw6YV811rLhzwPRSi19dhqqmFCFzvINPzI7rwN51B8ZQ4pNNA4iNW2UgTpVOL835Fb0qz/atL7EEPNyPrm01+MutwIPaUOI3khw9Y5aTggeISu1FN8RCHm5YQX7fQ8qlDk9WpR4eRlinQhW37rDtgXpc1Yz2xrsYtLg4StCHz+iHD1IazVPQgY6hnSLzgGKGbov6y4irHY58W/T13YKS2grIHCGoTfeLHcV4V1w9V6+v0zwz2j78MuSH9uYp2SKhwbnKbvYB5hJjHOmyo7OdIC4ckP6segL5wAb7rR1Jd5dslrzSxLYQeE6/ktXbYVCmJp0YfghpRQKbWPsVVXjs0iEWGBxzalVXhZQtrMFJwj/eCHJigbY2FuFpFI7EJNvvT2wPf3NxRF1QD/AbAv8WdRHzjKAAAAAElFTkSuQmCC'"
   ]
  },
  {
   "cell_type": "code",
   "execution_count": 3,
   "metadata": {},
   "outputs": [],
   "source": [
    "import base64\n",
    "show=base64.b64decode(data)"
   ]
  },
  {
   "cell_type": "code",
   "execution_count": 4,
   "metadata": {},
   "outputs": [
    {
     "data": {
      "text/plain": [
       "b'\\x89PNG\\r\\n\\x1a\\n\\x00\\x00\\x00\\rIHDR\\x00\\x00\\x00\\x14\\x00\\x00\\x00\\x1d\\x08\\x06\\x00\\x00\\x00\\xaa\\x86L\\xc5\\x00\\x00\\x00\\x01sRGB\\x00\\xae\\xce\\x1c\\xe9\\x00\\x00\\x00\\x04gAMA\\x00\\x00\\xb1\\x8f\\x0b\\xfca\\x05\\x00\\x00\\x00\\tpHYs\\x00\\x00\\x0e\\xc4\\x00\\x00\\x0e\\xc4\\x01\\x95+\\x0e\\x1b\\x00\\x00\\x02\\xdaIDATHK\\xad\\x95OH\\x14Q\\x1c\\xc7\\xbf;\\xea\\xce\\xba\\xe6\\x94\\xc9\\x1a2\\x06Q\\x90\\x7f\\x0ee\\x87\\xdcSzH<\\xa8\\x87L)+\\x10\\x14\\xa4@\\x0fE\\x94D\\xe8A\\x08\\x89R\\x04=XB\\xc2JA u\\x89\\x16\\xbcU\\x17\\xf5R\\x9e\\x14B#\\\\E\\\\5\\x9du]\\xc7uwz\\xe3\\xfefvfG\\xd1\\x15?\\xf0\\x98\\xdf\\xfb\\xf1\\xe6\\xc3\\xcc{\\xef\\xf7\\x9e\\xed\\xec\\xb9\\x8b\\n\\x8e\\x11\\xabP,A\\xe4a+6\\xcb\\n\\x11\\x12\\x04\\xc8<\\xe5!\\x83\\x97\\xfc\\xc8\\x18\\xfb\\x8a\\xf4\\xcenp\\xf3\\x94N\\xc0$T\\xda=X\\xbb\\xe7\\xc6\\x86.\\xd9\\x1bN\\xf6!\\xab\\xb7\\x05\\xce\\x81i\\xca\\xc4\\xe1\\xe8\\xc9\\xe8B\\xa0\\xc9,\\xb3\\xcb\\xec\\xabv\\x9bi \\xa2|\\x1eV\\xda\\x86\\xb1\\xd9(R&\\x8eq\\x1c!\\xe1\\xd4\\xe8[\\x88\\x95\\xf98Sp\\t9\\xbb-\\x1fb\\xfd\\x0b\\xb8f$\\xa4\\xd0(@`\\xd2\\x1e\\xecPO\\xc3$\\xb4\\xf9\\xc7\\x91[y\\x15\\x99\\xf7\\xd9\\x1cMQRc\\xdc\\x03G\\xf9\\r\\xe4\\xfcd\\x9f\\xab\\xc1\\x17#\\xd4N1a\\x10\\xf6#\\xb3\\xa6\\x01\\xa9\\x89\"\\x13\\xf3H}7\\x8e\\x0c\\xea\\xa9\\xc8E\\r\\x14\\xc50\\x08\\xd9\\xb2\\xed\\xb3r&\\xbeL\\xef\\xce\\xe9~\\xec1\\x87\\x07\\xe1\\x87\\xedX\\x85b1\\xb6\\x05\\x8a\\x19v\\x9f\\x87\\xa2\\x18I\\x0b\\x95\\x8e\\xcb\\x08R\\x0cL\\xc1\\xd1K!\\x91\\x9c\\xf0\\x81\\x07+\\x15y\\x88R\\xf7\\xc4h7\\xec\\t\\xf3~p-\\xbb\\xaf#RV\\x05\\xb9\\xe2\\x1a\\xd6.\\x08\\x88P\\xda9\\xf6\\x1a\\xd9w\\x06\\xa9\\x17\\xc7*|\\xe5\\xc5\\\\\\xddy\\xeaXI\\x95f\\x91\\xf5\\xf2\\x11\\x1c\\x1f\\xace\\xa7\\x92\\xd4/s\\xb2\\x1f\\xe9>\\xb6\\xca\\xbcaU\\x12\\xb0\\n\\xf5\\xfa\\x8d7\\xad\\xdc\\xa2\\xbc\\x0b\\x81\"7\\x96:\\x86\\xb10\\xe9\\x85|\\xd7Z\\xcb\\x87<\\x0fE(\\xb5\\xf5\\xd8j\\xaaaB\\x17;\\xc84\\xfc\\xc8\\xee\\xbc\\r\\xe7P|e\\x0e)4\\xd08\\x88\\xd5\\xb6R\\x04\\xe9T\\xe2\\xfc\\xdf\\x91[\\xd2\\xac\\xffj\\xd2\\xfb\\x10C\\xcd\\xc8\\xfa\\xe6\\xd3_\\x8c\\xba\\xdc\\x08=\\xa5\\x0e#y!\\xc3\\xd69i8 x\\x84\\xae\\xd4S|D!\\xe6\\xe5\\x84\\x17\\xed\\xf4<\\xaaP\\xe4\\xf5jQ\\xe1\\xe4e\\x8at![~\\xeb\\x0e\\xd8\\x17\\xa5\\xcdX\\xcflk\\xb1\\x8bK\\x83\\x84\\xad\\x08|\\xfe\\x88p\\xf5!\\xac\\xd5=\\x08\\x18\\xea\\x19\\xd2/8\\x06(f\\xe8\\xbf\\xac\\xb8\\x8a\\xb1\\xd8\\xe7\\xc5\\xbfO]\\xd8)-\\xa0\\xac\\x81\\xc2\\x1a\\x84\\xdfx\\xb1\\xdcW\\x85u\\xc3\\xd5z\\xfa\\xfd3\\xc3=\\xa3\\xef\\xc3.H\\x7fnb\\x9d\\x92*\\x1c\\x1b\\x9c\\xa6\\xef`\\x1ea&1\\xce\\x9b*;9\\xd2\\x02\\xe1\\xc9\\x0f\\xea\\xc7\\xa0/\\x9c\\x00o\\xba\\xd1\\xd4\\x97yv\\xc9k\\xcd,Ka\\x07\\x84\\xeb\\xf9-]\\xb6\\x15\\nbi\\xd1\\x87\\xe0\\x86\\x94P)\\xb5\\x8f\\xb1UW\\x8e\\xcd\"\\x11a\\x81\\xc76\\xa5UxYB\\xda\\xcc\\x14\\x9c#\\xfd\\xe0\\x87&(\\x1bcan\\x16\\x91H\\xecBM\\xbe\\xf4\\xf6\\xc0\\xf7\\xf77\\x14E\\xd5\\x00\\xff\\x01\\xb0/\\xf1gQ\\x1f8\\xca\\x00\\x00\\x00\\x00IEND\\xaeB`\\x82'"
      ]
     },
     "execution_count": 4,
     "metadata": {},
     "output_type": "execute_result"
    }
   ],
   "source": [
    "show"
   ]
  },
  {
   "cell_type": "code",
   "execution_count": 6,
   "metadata": {},
   "outputs": [],
   "source": [
    "with open('show.png','wb') as file:\n",
    "    file.write(show)"
   ]
  },
  {
   "cell_type": "code",
   "execution_count": null,
   "metadata": {},
   "outputs": [],
   "source": []
  }
 ],
 "metadata": {
  "kernelspec": {
   "display_name": "Python 3",
   "language": "python",
   "name": "python3"
  },
  "language_info": {
   "codemirror_mode": {
    "name": "ipython",
    "version": 3
   },
   "file_extension": ".py",
   "mimetype": "text/x-python",
   "name": "python",
   "nbconvert_exporter": "python",
   "pygments_lexer": "ipython3",
   "version": "3.7.0"
  }
 },
 "nbformat": 4,
 "nbformat_minor": 2
}
