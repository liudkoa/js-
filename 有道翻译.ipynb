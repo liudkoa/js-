{
 "cells": [
  {
   "cell_type": "markdown",
   "metadata": {},
   "source": [
    "### 时间戳"
   ]
  },
  {
   "cell_type": "code",
   "execution_count": 1,
   "metadata": {},
   "outputs": [
    {
     "data": {
      "text/plain": [
       "1619443790.5798476"
      ]
     },
     "execution_count": 1,
     "metadata": {},
     "output_type": "execute_result"
    }
   ],
   "source": [
    "import time \n",
    "time.time()"
   ]
  },
  {
   "cell_type": "markdown",
   "metadata": {},
   "source": [
    "### md5加密方式 加密字符串成32位的16进制加密"
   ]
  },
  {
   "cell_type": "code",
   "execution_count": 2,
   "metadata": {},
   "outputs": [
    {
     "name": "stdout",
     "output_type": "stream",
     "text": [
      "32\n",
      "e10adc3949ba59abbe56e057f20f883e 32\n"
     ]
    }
   ],
   "source": [
    "sign= 'aeac36168efc072ac5e11380580e3330'\n",
    "print(len(sign))\n",
    "from hashlib import md5\n",
    "md=md5()\n",
    "strs='123456' \n",
    "md.update(strs.encode()) #加密\n",
    "reshow=md.hexdigest() #显示\n",
    "print(reshow,len(reshow))"
   ]
  },
  {
   "cell_type": "markdown",
   "metadata": {},
   "source": [
    "## 有道翻译"
   ]
  },
  {
   "cell_type": "code",
   "execution_count": 16,
   "metadata": {},
   "outputs": [
    {
     "name": "stdout",
     "output_type": "stream",
     "text": [
      "请输入要翻译的单词home\n",
      "{'type': 'EN2ZH_CN', 'errorCode': 0, 'elapsedTime': 0, 'translateResult': [[{'src': 'home', 'tgt': '家'}]]}\n"
     ]
    }
   ],
   "source": [
    "import requests\n",
    "from lxml import etree\n",
    "import numpy as np\n",
    "from hashlib import md5\n",
    "import time \n",
    "headers = {\n",
    "    'Accept': 'application/json, text/javascript, */*; q=0.01',\n",
    "    'Accept-Encoding': 'gzip, deflate, br',\n",
    "    'Accept-Language': 'zh-CN,zh;q=0.9,en;q=0.8,en-GB;q=0.7,en-US;q=0.6',\n",
    "    'Connection': 'keep-alive',\n",
    "    'Content-Length': '243',\n",
    "    'Content-Type': 'application/x-www-form-urlencoded; charset=UTF-8',\n",
    "    'Cookie': 'OUTFOX_SEARCH_USER_ID=901605056@10.169.0.102; OUTFOX_SEARCH_USER_ID_NCOO=1259254652.8064933; _ntes_nnid=27ab40bc4149e8ee6ea5d4fdbaa969e3,1600586769153; JSESSIONID=aaaoFi2-o_7p6dowlkoKx; ___rl__test__cookies=1619440325097',\n",
    "    'Host': 'fanyi.youdao.com',\n",
    "    'Origin': 'https://fanyi.youdao.com',\n",
    "    'Referer': 'https://fanyi.youdao.com/',\n",
    "    'sec-ch-ua': '\" Not A;Brand\";v=\"99\", \"Chromium\";v=\"90\", \"Microsoft Edge\";v=\"90\"',\n",
    "    'sec-ch-ua-mobile': '?0',\n",
    "    'Sec-Fetch-Dest': 'empty',\n",
    "    'Sec-Fetch-Mode': 'cors',\n",
    "    'Sec-Fetch-Site': 'same-origin',\n",
    "    'User-Agent': 'Mozilla/5.0 (Windows NT 10.0; Win64; x64) AppleWebKit/537.36 (KHTML, like Gecko) Chrome/90.0.4430.85 Safari/537.36 Edg/90.0.818.46',\n",
    "    'X-Requested-With': 'XMLHttpRequest'\n",
    "}\n",
    "word = input('请输入要翻译的单词')\n",
    "ts = str(int(time.time()*1000))\n",
    "salt = ts+str(np.random.randint(0,9))\n",
    "e=word+'\\n\\n'\n",
    "sign_str=\"fanyideskweb\" + e + salt + \"Tbh5E8=q6U3EXe+&L[4c@\"\n",
    "md=md5()\n",
    "md.update(sign_str.encode())\n",
    "sign=md.hexdigest()\n",
    "data={\n",
    "    'i': word,\n",
    "    'from': 'AUTO',\n",
    "    'to': 'AUTO',\n",
    "    'smartresult': 'dict',\n",
    "    'client': 'fanyideskweb',\n",
    "    'salt': salt,\n",
    "    'sign': sign,\n",
    "    'lts': ts,\n",
    "    'bv': '5cccd7f3cc8de620287f833067fc1f3c',\n",
    "    'doctype': 'json',\n",
    "    'version': '2.1',\n",
    "    'keyfrom': 'fanyi.web',\n",
    "    'action': 'FY_BY_REALTlME'\n",
    "}\n",
    "url='https://fanyi.youdao.com/translate?smartresult=dict&smartresult=rule'\n",
    "html=requests.post(url =url,headers=headers,data=data).json()\n",
    "print(html)"
   ]
  },
  {
   "cell_type": "code",
   "execution_count": null,
   "metadata": {},
   "outputs": [],
   "source": []
  }
 ],
 "metadata": {
  "kernelspec": {
   "display_name": "Python 3",
   "language": "python",
   "name": "python3"
  },
  "language_info": {
   "codemirror_mode": {
    "name": "ipython",
    "version": 3
   },
   "file_extension": ".py",
   "mimetype": "text/x-python",
   "name": "python",
   "nbconvert_exporter": "python",
   "pygments_lexer": "ipython3",
   "version": "3.7.0"
  }
 },
 "nbformat": 4,
 "nbformat_minor": 2
}
