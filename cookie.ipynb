{
 "cells": [
  {
   "cell_type": "markdown",
   "metadata": {},
   "source": [
    "### 尝试拿一页"
   ]
  },
  {
   "cell_type": "code",
   "execution_count": 139,
   "metadata": {},
   "outputs": [
    {
     "name": "stdout",
     "output_type": "stream",
     "text": [
      "<Response [200]>\n",
      "{'errcode': 0, 'errmessage': 'ok', 'data': {'total': 10, 'list': [{'id': 765235, 'site_id': 759010, 'nickname': '金生', 'title': '麻章创文施工队将我家化粪池打烂后拒绝修复！', 'content': '麻章创文人行道改造施工队用钩机将我家的化粪池打烂（盖子烂，内部一二级化粪池墙壁、底部开裂，化粪池已经漏水，已没有作用），施工队承认打烂我们的化粪池但要求我们自己修复。这个化粪池是在我们房屋产权内的，施工队野蛮施工已严重侵犯房屋所有人的权益，还拒绝修复，根据《侵权责任法》《民法典》，这是违法行为。施工队打着创文人行道改造工程的名义，野蛮施工破坏居民财产权益，地址在麻章区镇安一横路16号，有施工后掘烂化粪池的图片为证！在此举报曝光，望有相关职能部门湛江市创建文明办，麻章区城管执法局等相关职能部门及时处理，要求施工方修复好化粪池，还居民正常生活。', 'time': 1595523726, 'handle_code': 'B20200724650', 'summary': '建筑施工', 'reply': '<p style=\"text-align: left;\">尊敬的金先生您好，您所反映的问题已收悉。根据麻章区创文补短板工作要求，启动对镇安一横路建设，建设不改变道路现状，是在现状基础上升级改造，改造包括道路铺设沥青混凝土及在两边房屋墙角到道路公共范围安装花岗岩侧石、花岗岩人行道。由于镇安一横路两边房子建设年代久远，大部分房屋的化粪池设立于人行道建设公共区域，影响人行道、侧石的施工。</p><p style=\"text-align: left;\">按照市政设施管理条例，在市政设施建设时需居民支持处理建设范围内的附着物，考虑到该地方历史遗留问题和居民承受能力，区城综局现场管理人员已交代施工、监理单位，由施工单位解决施工过程中不可避免破坏的化粪池，给金先生造成的不便，敬请谅解。</p><p><br/></p>', 'reply_time': 1597143023, 'org_name': '湛江市麻章区政府办公室', 'type': '业务投诉', 'pub_url': 'http://www.zjmazhang.gov.cn/hdjlpt/detail?pid=765235', 'summaries': [{'id': 6443, 'org_id': 759010, 'site_id': 759010, 'name': '建筑施工', 'is_sqzx': 0, 'sort': 5, 'valid': 1, 'deleted_at': None}]}, {'id': 757655, 'site_id': 759010, 'nickname': '朱金丰', 'title': '政府电话查询', 'content': '因学校社会实践需求，本人所在团队想到民安镇进行社会实践，麻烦您提供一下广东省湛江市麻章区东海岛民安镇政府或者村委，派出所的电话，我在网络上查询到的基本是空号，已经拨打了十余种不同的号码，求急谢谢', 'time': 1594373208, 'handle_code': 'B20200710526', 'summary': '扶贫专栏', 'reply': '<p>已告知网民，有关电话应咨询湛江市经济开发区职能部门。</p>', 'reply_time': 1594373995, 'org_name': '湛江市麻章区政府办公室', 'type': '业务咨询', 'pub_url': 'http://www.zjmazhang.gov.cn/hdjlpt/detail?pid=757655', 'summaries': [{'id': 6441, 'org_id': 759010, 'site_id': 759010, 'name': '扶贫专栏', 'is_sqzx': 0, 'sort': 3, 'valid': 1, 'deleted_at': None}]}, {'id': 751280, 'site_id': 759010, 'nickname': '777', 'title': '申请公开华润置地桃源里预售备案价信息', 'content': '您好！请问麻章区的楼盘预售备案价信息公示是归麻章区住房和城乡建设局管理吗？我向湛江市住房和城乡建设局提出申请，以下是复函：\\n政府信息公开申请答复书\\n\\n林桂春：\\n本机关于2020年6月29日收到你提交的政府信息公开申请。根据《中华人民共和国政府信息公开条例》第三十六条第（五）项规定，现答复如下：\\n你申请公开的华润置地桃源里预售备案价信息，经查，华润置地桃源里项目位于麻章区，按照属地管理原则，依法不属于本机关公开，有关情况建议你径向麻章区住房和城乡建设局提出信息公开申请。\\n特此函告。\\n\\n湛江市住房和城乡建设局\\n2020年6月29日\\n\\n请问如何申请公开华润置地桃源里预售备案价信息？以及华润置地门前的麻志路在规划扩建，请问什么时候动工？期待您的答复。谢谢！', 'time': 1593503146, 'handle_code': 'B20200630449', 'summary': '建筑施工', 'reply': '<p>请进入湛江建设信息网，再到商品房公众服务平台查询。</p>', 'reply_time': 1594177801, 'org_name': '湛江市麻章区政府办公室', 'type': '业务咨询', 'pub_url': 'http://www.zjmazhang.gov.cn/hdjlpt/detail?pid=751280', 'summaries': [{'id': 6443, 'org_id': 759010, 'site_id': 759010, 'name': '建筑施工', 'is_sqzx': 0, 'sort': 5, 'valid': 1, 'deleted_at': None}]}, {'id': 538178, 'site_id': 759010, 'nickname': 'liu', 'title': '农村宅基地建设占用公共巷道', 'content': '麻章区湖光镇司马村60号村民刘华德不按村里土地规划，占用公共宗地1.2米宽，并把化粪池建出围墙外70公分。司马村村委会干部多次协调无效，我方去湖光镇综治信访维稳中心投诉，村书记也多次向副镇长汇报此事。湖光镇综治信访维稳中心工作人员来现场协调后，双方作出让步。但对方拒绝签订协议书，且没有执行协议书，并且在还没协调好的情况下动工把化粪池相关设施建设好。司马村村委干部怕事，不能主持公道，让无赖得寸进尺，侵犯我方和村集体利益；我方再次去镇综治信访维稳中心投诉，目前还没相关工作人员来协调；我方在12345投诉热线投诉，纠纷还没处理完，热线管理中心办结此事，给的回复是司马村委干部将继续做好调解工作，也把问题踢回村委会，陷入死循环。司马村委干部多次协调无效，才向上级求助协调，上级解决不了也不能采取这种踢皮球的做法，让无赖方得寸进尺，我方和村集体利益受侵害。诚恳相关部门出面协调和处理。', 'time': 1583283784, 'handle_code': 'B20200304033', 'summary': '建筑施工', 'reply': '<p>刘女士的反映已收悉。双方于3月16日在湖光镇综治办签订协议，村民刘华德同意拆除占用的建筑和化粪池。此复</p>', 'reply_time': 1586401495, 'org_name': '湛江市麻章区政府办公室', 'type': '业务投诉', 'pub_url': 'http://www.zjmazhang.gov.cn/hdjlpt/detail?pid=538178', 'summaries': [{'id': 6443, 'org_id': 759010, 'site_id': 759010, 'name': '建筑施工', 'is_sqzx': 0, 'sort': 5, 'valid': 1, 'deleted_at': None}]}, {'id': 557167, 'site_id': 759010, 'nickname': '坚韧如松', 'title': '2020年农艺师职称申请要求', 'content': '想了解一下最新的有关中级农艺师申请的要求，或在哪里查看，抑或哪里下载有关说明', 'time': 1585726965, 'handle_code': 'B20200401240', 'summary': '扶贫专栏', 'reply': '<p>您好！中级农艺师职称的评审工作由湛江市农业中级专业技术资格评审委员会组织实施，湛江市农业中级专业技术资格评审委员会地址位于湛江市赤坎百园路63号湛江市农业农村局，联系电话3220080。根据历年的评审情况，每年职称评审工作在8月后开展，2020年中级农艺师职称的评审要求和具体时间请以湛江市农业中级专业技术资格评审委员会的评审通知为准，可在湛江市农业农村局官方网站上进行查询：http://nyncj.zhanjiang.gov.cn/</p><p><br/></p>', 'reply_time': 1585899086, 'org_name': '湛江市麻章区政府办公室', 'type': '业务咨询', 'pub_url': 'http://www.zjmazhang.gov.cn/hdjlpt/detail?pid=557167', 'summaries': [{'id': 6441, 'org_id': 759010, 'site_id': 759010, 'name': '扶贫专栏', 'is_sqzx': 0, 'sort': 3, 'valid': 1, 'deleted_at': None}]}, {'id': 522058, 'site_id': 759010, 'nickname': '程女士', 'title': '麻章区育才中路28号甜心宠物店斜对面有人施工扰民', 'content': '程女士反映麻章区育才中路28号甜心宠物店斜对面有人施工建房，目前正在打地基，每天07:00-14:00都在施工，且周末亦在施工。其表示施工噪音已严重影响周边居民的正常生活，现希望相关部门尽快处理。（备注：请职能部门勿泄露市民信息）\\n2019-12-21 13:44:16', 'time': 1576910656, 'handle_code': 'B20200107260', 'summary': '建筑施工', 'reply': '<p>麻章区城综局规划中队已派员跟进处理，并要求该在建工程的相关当事人严格按照法定时间进行施工作业，同时采取必要的降噪防尘措施。下步，区城综局会要求相关中队继续做好跟踪监管工作。</p>', 'reply_time': 1578140400, 'org_name': '湛江市麻章区政府办公室', 'type': '领导信箱', 'pub_url': 'http://www.zjmazhang.gov.cn/hdjlpt/detail?pid=522058', 'summaries': [{'id': 6443, 'org_id': 759010, 'site_id': 759010, 'name': '建筑施工', 'is_sqzx': 0, 'sort': 5, 'valid': 1, 'deleted_at': None}]}, {'id': 522046, 'site_id': 759010, 'nickname': '黄先生', 'title': '麻章区民乐中街22号三生三茶奶茶店深夜噪音扰民', 'content': '麻章区民乐中街22号三生三茶奶茶店每天00:00仍在播放高音音乐扰民，同时日常播放的音乐声也过大。现希望有关部门尽快处理。', 'time': 1576944590, 'handle_code': 'B20200107250', 'summary': '环境整治', 'reply': '<p>麻章区城综局辖区中队已派员跟进，并责令该店人员在夜间时分停止使用高音喇叭进行娱乐活动。下步，区城综局会要求相关中队继续做好跟踪监管工作。</p>', 'reply_time': 1578138561, 'org_name': '湛江市麻章区政府办公室', 'type': '领导信箱', 'pub_url': 'http://www.zjmazhang.gov.cn/hdjlpt/detail?pid=522046', 'summaries': [{'id': 6440, 'org_id': 759010, 'site_id': 759010, 'name': '环境整治', 'is_sqzx': 0, 'sort': 2, 'valid': 1, 'deleted_at': None}]}, {'id': 522057, 'site_id': 759010, 'nickname': '李先生', 'title': '麻章区瑞云北路鸿运幼儿园噪音扰民', 'content': '李先生反映麻章区瑞云北路鸿运幼儿园每周六周日中午正常休息时间段都有几个小孩在大吵大闹，没有人管理，产生噪音严重影响周边居民的正常休息，现希望相关部门尽快处理。2019-12-21 14:28:42', 'time': 1576909722, 'handle_code': 'B20200107259', 'summary': '环境整治', 'reply': '<p>关于李先生反映麻章区鸿运幼儿园噪音扰民的情况答复:我局在12月21日接到你们转来的“麻章区瑞云北路鸿运幼儿园噪音扰民”的投诉后，局领导非常重视，要求相关股室进行调查，调查情况以下：经查，麻章区鸿运幼儿园周末没有幼儿回园活动，平时是园长家属和亲戚家4、5个小孩在园内玩耍。区教育局与园长沟通了中午时间段管理好小孩大声喧闹情况，园长也表示，今后管理好小孩，中午休息时间段尽量注意不影响周围居民。</p>', 'reply_time': 1578053885, 'org_name': '湛江市麻章区政府办公室', 'type': '领导信箱', 'pub_url': 'http://www.zjmazhang.gov.cn/hdjlpt/detail?pid=522057', 'summaries': [{'id': 6440, 'org_id': 759010, 'site_id': 759010, 'name': '环境整治', 'is_sqzx': 0, 'sort': 2, 'valid': 1, 'deleted_at': None}]}, {'id': 522048, 'site_id': 759010, 'nickname': '朱先生', 'title': '麻章区金川路口长城网吧允许未成年人进入上网', 'content': '麻章区金川路口的长城网吧每周五、六均有大量未成年人进入上网，现希望相关部门尽快调查处理', 'time': 1576934377, 'handle_code': 'B20200107251', 'summary': '环境整治', 'reply': '<p>接报后，我局领导十分重视，立即指示文化市场综合执法一科对此事进行调查处理。按照局领导指示，文化市场综合执法一科的执法人员分别于12月27日11时20分、28日15时30分赶赴麻章区金川路口长城网吧，对该网吧场所进行了突击检查。经现场检查核实，该网吧当时正在营业中，未发现有未成年人进入的现象，鉴于有群众投诉该网吧允许未成年人进入上网的现象，执法人员调取文网卫士监管平台，对近期的上网记录进行了核查，均未发现有未成年人进入行为。执法人员找到场所负责人宣讲了相关的法律法规，讲明网吧接纳未成年人进入营业场所是违法行为，并告诫他们要守法经营，不得接纳未成年人进入营业场所，否则，一经发现，将严厉查处。12月30日15时30分执法人员又赶赴该场所进行检查，亦未发现违规经营行为。今后，我们将进一步加大巡查力度，严查网吧接纳未成年人进入现象。</p>', 'reply_time': 1578052333, 'org_name': '湛江市麻章区政府办公室', 'type': '领导信箱', 'pub_url': 'http://www.zjmazhang.gov.cn/hdjlpt/detail?pid=522048', 'summaries': [{'id': 6440, 'org_id': 759010, 'site_id': 759010, 'name': '环境整治', 'is_sqzx': 0, 'sort': 2, 'valid': 1, 'deleted_at': None}]}, {'id': 522056, 'site_id': 759010, 'nickname': '顾先生', 'title': '麻章区海大路1号广东海洋大学教工宿舍楼22栋605房施工噪音扰民', 'content': '顾先生反映麻章区海大路1号广东海洋大学教工宿舍楼22栋605房每天中午正常休息时间段都在施工，产生噪音严重影响附近居民正常休息，希望相关部门尽快处理。2019-12-21 15:22:31', 'time': 1576912951, 'handle_code': 'B20200107258', 'summary': '建筑施工', 'reply': '<p>该诉求反映的问题属于海洋大学内部管理问题，热线办建议市民向学校宿舍管理处反映。</p>', 'reply_time': 1577880987, 'org_name': '湛江市麻章区政府办公室', 'type': '领导信箱', 'pub_url': 'http://www.zjmazhang.gov.cn/hdjlpt/detail?pid=522056', 'summaries': [{'id': 6443, 'org_id': 759010, 'site_id': 759010, 'name': '建筑施工', 'is_sqzx': 0, 'sort': 5, 'valid': 1, 'deleted_at': None}]}], 'name': None}, 'trigger': None}\n"
     ]
    }
   ],
   "source": [
    "import requests\n",
    "headers = {\n",
    "    'User-Agent': 'Mozilla/5.0 (Windows NT 10.0; Win64; x64) AppleWebKit/537.36 (KHTML, like Gecko) Chrome/90.0.4430.85 Safari/537.36 Edg/90.0.818.49'\n",
    "    ,'Cookie':'zh_choose=n; szxx_session=eyJpdiI6IldCTW5zK25cL2tRVks0ODRNaXFXd1hnPT0iLCJ2YWx1ZSI6InVMOVwvaTJjTGFEQ0ZNVUM5WGpIQXBNUTBCM21IY2JocDBuMFZPN09MVU1kOTVPYVA3SkNud0diUk1ySzhrUGlWIiwibWFjIjoiN2YzNTc2MGZlYmNmZDExMDE4OWRiMjQ0M2Y1MzRmZGE2NGM2ZjNkNDRkYzYyNWNlMDc2NTNlOTljYWZmZDczYSJ9'\n",
    "    ,'Origin': 'http://www.zjmazhang.gov.cn'\n",
    "    ,'Referer': 'http://www.zjmazhang.gov.cn/hdjlpt/published?via=pa'\n",
    "    ,'X-CSRF-TOKEN': 'azqUFBMVU9bdIqJiRbnAa8Ze17oAceNrGdFEdHxF'}\n",
    "url='http://www.zjmazhang.gov.cn/hdjlpt/letter/pubList'\n",
    "from_data ={'offset': '0',\n",
    "            'limit': '20',\n",
    "            'site_id': '759010'}\n",
    "response = requests.post(url,headers=headers,data=from_data)\n",
    "print(response)\n",
    "print(response.json())"
   ]
  },
  {
   "cell_type": "code",
   "execution_count": 152,
   "metadata": {},
   "outputs": [
    {
     "name": "stdout",
     "output_type": "stream",
     "text": [
      "eyJpdiI6IlUreW9DUmUwd1NmcCt3RHpWbkdueVE9PSIsInZhbHVlIjoiXC8yR2pmM2ZqRjA5R1d2c2YyQmZ6N3BHajhtMUo3MUY5S2VoZVMxK2UxZSt2UkpyaXhhSm9acTNMN3FxUW4xTVYiLCJtYWMiOiJmMTMzNjcyOGE0N2FjMmRhNDU0YjZlNzNiMzc2YjIwYmU3YWZhY2IyMTEyYWFjMjMyYTQ5NjA1OTc2ZjY0NDIwIn0%3D\n",
      "eyJpdiI6Imo3U1RHbE9wXC9pMDExQnJ5Mk5HMzF3PT0iLCJ2YWx1ZSI6IjQyK01MODZRNVM4c09ub2dcLzZUbjByWFwvTXU0OWxadHE2N1RBZTNVY2l0TVZDaUtqMEtsZmRyRVU0dWJuQk9NTiIsIm1hYyI6ImIyMGIzYzhiOGE0MmYyODM2YjlmOGE4NTI3M2RlY2UxOWNhZDQxZTQ5NmRlMTI5YWM1NjdmMGVjZDJhMDJiNjEifQ%3D%3D\n",
      "4ri9P4R5zPefPR1g4OKELD2po3sGtLoOwW7YsEgh\n"
     ]
    }
   ],
   "source": [
    "#解决cookie\n",
    "cookie_url = 'http://www.zjmazhang.gov.cn/hdjlpt/published?via=pa'\n",
    "def get_ck():\n",
    "    res = requests.get(cookie_url)\n",
    "    cookies = res.cookies\n",
    "    session = cookies['szxx_session']\n",
    "    return session\n",
    "print(get_ck())\n",
    "##解决token\n",
    "def get_token():\n",
    "    res = requests.get(cookie_url)\n",
    "    cookies = res.cookies\n",
    "    session = cookies['XSRF-TOKEN']\n",
    "    return session\n",
    "print(get_token())\n",
    "##解决sc\n",
    "import re\n",
    "def get_cs():\n",
    "    res = requests.get(cookie_url).text\n",
    "    cs = re.search(\"var _CSRF = '(.*?)';\",res,re.S).group(1)\n",
    "    return cs\n",
    "print(get_cs())"
   ]
  },
  {
   "cell_type": "code",
   "execution_count": 153,
   "metadata": {},
   "outputs": [
    {
     "name": "stdout",
     "output_type": "stream",
     "text": [
      "{'User-Agent': 'Mozilla/5.0 (Windows NT 10.0; Win64; x64) AppleWebKit/537.36 (KHTML, like Gecko) Chrome/90.0.4430.85 Safari/537.36 Edg/90.0.818.49', 'Cookie': 'zh_choose=n; XSRF-TOKEN=eyJpdiI6IkZQYVd0XC9hWDNSYmo2QnVlY21uN0J3PT0iLCJ2YWx1ZSI6IlhSWk5vTGd4bktFZGIxQ1I2VFdweFJnbkVFeDdLQW9oQ3FtZGg4RnIwTElYVVpkemxXK3FCMHRCQUE4eWxzZXAiLCJtYWMiOiI3YWI2YjY1NjA3YjJlNWY1Y2FhNDAzM2VkOTI1YzhmMTViYTFiNTU2MDEwYTliNGYyNmU4MjAyZDZkNzFmYTk5In0%3D, szxx_session=eyJpdiI6IlUxTkd2bEZpM25cL3czRWg1TWVFbUt3PT0iLCJ2YWx1ZSI6ImRkcVRsMExiS01MVWpVc1Fxa3pNT2ZkNzVMUjkrTUNiaDAyaEVScGxCU1wvVnNsd1dxTjlyaUNGOEpQOEVhY0VSIiwibWFjIjoiYzlkN2IzNDYzODQwYjlmYWM1N2YxMjViZjVmOTc2YWE4YTMyMDcwZGEyY2U2MTk2YzA2YThhMjAzZjczZjExYiJ9', 'Origin': 'http://www.zjmazhang.gov.cn', 'Referer': 'http://www.zjmazhang.gov.cn/hdjlpt/published?via=pa', 'X-CSRF-TOKEN': 'W5hjMDiFkmMQ687k0Mutw2HRsioEsQ7DDzjr8iGQ'}\n",
      "<Response [200]>\n",
      "{'errcode': 419, 'errmessage': '页面已失效，请刷新重试', 'data': None, 'trigger': None}\n"
     ]
    }
   ],
   "source": [
    "import requests\n",
    "headers = {\n",
    "    'User-Agent': 'Mozilla/5.0 (Windows NT 10.0; Win64; x64) AppleWebKit/537.36 (KHTML, like Gecko) Chrome/90.0.4430.85 Safari/537.36 Edg/90.0.818.49'\n",
    "    ,'Cookie':'zh_choose=n; XSRF-TOKEN={}, szxx_session={}'.format(get_token(),get_ck())\n",
    "    ,'Origin': 'http://www.zjmazhang.gov.cn'\n",
    "    ,'Referer': 'http://www.zjmazhang.gov.cn/hdjlpt/published?via=pa'\n",
    "    ,'X-CSRF-TOKEN': '{}'.format(get_cs())}\n",
    "print(headers)\n",
    "url='http://www.zjmazhang.gov.cn/hdjlpt/letter/pubList'\n",
    "from_data ={'offset': '0',\n",
    "            'limit': '20',\n",
    "            'site_id': '759010'}\n",
    "response = requests.post(url,headers=headers,data=from_data)\n",
    "print(response)\n",
    "print(response.json())"
   ]
  },
  {
   "cell_type": "code",
   "execution_count": 155,
   "metadata": {},
   "outputs": [
    {
     "name": "stdout",
     "output_type": "stream",
     "text": [
      "<Response [200]>\n",
      "{'errcode': 0, 'errmessage': 'ok', 'data': {'total': 10, 'list': [{'id': 765235, 'site_id': 759010, 'nickname': '金生', 'title': '麻章创文施工队将我家化粪池打烂后拒绝修复！', 'content': '麻章创文人行道改造施工队用钩机将我家的化粪池打烂（盖子烂，内部一二级化粪池墙壁、底部开裂，化粪池已经漏水，已没有作用），施工队承认打烂我们的化粪池但要求我们自己修复。这个化粪池是在我们房屋产权内的，施工队野蛮施工已严重侵犯房屋所有人的权益，还拒绝修复，根据《侵权责任法》《民法典》，这是违法行为。施工队打着创文人行道改造工程的名义，野蛮施工破坏居民财产权益，地址在麻章区镇安一横路16号，有施工后掘烂化粪池的图片为证！在此举报曝光，望有相关职能部门湛江市创建文明办，麻章区城管执法局等相关职能部门及时处理，要求施工方修复好化粪池，还居民正常生活。', 'time': 1595523726, 'handle_code': 'B20200724650', 'summary': '建筑施工', 'reply': '<p style=\"text-align: left;\">尊敬的金先生您好，您所反映的问题已收悉。根据麻章区创文补短板工作要求，启动对镇安一横路建设，建设不改变道路现状，是在现状基础上升级改造，改造包括道路铺设沥青混凝土及在两边房屋墙角到道路公共范围安装花岗岩侧石、花岗岩人行道。由于镇安一横路两边房子建设年代久远，大部分房屋的化粪池设立于人行道建设公共区域，影响人行道、侧石的施工。</p><p style=\"text-align: left;\">按照市政设施管理条例，在市政设施建设时需居民支持处理建设范围内的附着物，考虑到该地方历史遗留问题和居民承受能力，区城综局现场管理人员已交代施工、监理单位，由施工单位解决施工过程中不可避免破坏的化粪池，给金先生造成的不便，敬请谅解。</p><p><br/></p>', 'reply_time': 1597143023, 'org_name': '湛江市麻章区政府办公室', 'type': '业务投诉', 'pub_url': 'http://www.zjmazhang.gov.cn/hdjlpt/detail?pid=765235', 'summaries': [{'id': 6443, 'org_id': 759010, 'site_id': 759010, 'name': '建筑施工', 'is_sqzx': 0, 'sort': 5, 'valid': 1, 'deleted_at': None}]}, {'id': 757655, 'site_id': 759010, 'nickname': '朱金丰', 'title': '政府电话查询', 'content': '因学校社会实践需求，本人所在团队想到民安镇进行社会实践，麻烦您提供一下广东省湛江市麻章区东海岛民安镇政府或者村委，派出所的电话，我在网络上查询到的基本是空号，已经拨打了十余种不同的号码，求急谢谢', 'time': 1594373208, 'handle_code': 'B20200710526', 'summary': '扶贫专栏', 'reply': '<p>已告知网民，有关电话应咨询湛江市经济开发区职能部门。</p>', 'reply_time': 1594373995, 'org_name': '湛江市麻章区政府办公室', 'type': '业务咨询', 'pub_url': 'http://www.zjmazhang.gov.cn/hdjlpt/detail?pid=757655', 'summaries': [{'id': 6441, 'org_id': 759010, 'site_id': 759010, 'name': '扶贫专栏', 'is_sqzx': 0, 'sort': 3, 'valid': 1, 'deleted_at': None}]}, {'id': 751280, 'site_id': 759010, 'nickname': '777', 'title': '申请公开华润置地桃源里预售备案价信息', 'content': '您好！请问麻章区的楼盘预售备案价信息公示是归麻章区住房和城乡建设局管理吗？我向湛江市住房和城乡建设局提出申请，以下是复函：\\n政府信息公开申请答复书\\n\\n林桂春：\\n本机关于2020年6月29日收到你提交的政府信息公开申请。根据《中华人民共和国政府信息公开条例》第三十六条第（五）项规定，现答复如下：\\n你申请公开的华润置地桃源里预售备案价信息，经查，华润置地桃源里项目位于麻章区，按照属地管理原则，依法不属于本机关公开，有关情况建议你径向麻章区住房和城乡建设局提出信息公开申请。\\n特此函告。\\n\\n湛江市住房和城乡建设局\\n2020年6月29日\\n\\n请问如何申请公开华润置地桃源里预售备案价信息？以及华润置地门前的麻志路在规划扩建，请问什么时候动工？期待您的答复。谢谢！', 'time': 1593503146, 'handle_code': 'B20200630449', 'summary': '建筑施工', 'reply': '<p>请进入湛江建设信息网，再到商品房公众服务平台查询。</p>', 'reply_time': 1594177801, 'org_name': '湛江市麻章区政府办公室', 'type': '业务咨询', 'pub_url': 'http://www.zjmazhang.gov.cn/hdjlpt/detail?pid=751280', 'summaries': [{'id': 6443, 'org_id': 759010, 'site_id': 759010, 'name': '建筑施工', 'is_sqzx': 0, 'sort': 5, 'valid': 1, 'deleted_at': None}]}, {'id': 538178, 'site_id': 759010, 'nickname': 'liu', 'title': '农村宅基地建设占用公共巷道', 'content': '麻章区湖光镇司马村60号村民刘华德不按村里土地规划，占用公共宗地1.2米宽，并把化粪池建出围墙外70公分。司马村村委会干部多次协调无效，我方去湖光镇综治信访维稳中心投诉，村书记也多次向副镇长汇报此事。湖光镇综治信访维稳中心工作人员来现场协调后，双方作出让步。但对方拒绝签订协议书，且没有执行协议书，并且在还没协调好的情况下动工把化粪池相关设施建设好。司马村村委干部怕事，不能主持公道，让无赖得寸进尺，侵犯我方和村集体利益；我方再次去镇综治信访维稳中心投诉，目前还没相关工作人员来协调；我方在12345投诉热线投诉，纠纷还没处理完，热线管理中心办结此事，给的回复是司马村委干部将继续做好调解工作，也把问题踢回村委会，陷入死循环。司马村委干部多次协调无效，才向上级求助协调，上级解决不了也不能采取这种踢皮球的做法，让无赖方得寸进尺，我方和村集体利益受侵害。诚恳相关部门出面协调和处理。', 'time': 1583283784, 'handle_code': 'B20200304033', 'summary': '建筑施工', 'reply': '<p>刘女士的反映已收悉。双方于3月16日在湖光镇综治办签订协议，村民刘华德同意拆除占用的建筑和化粪池。此复</p>', 'reply_time': 1586401495, 'org_name': '湛江市麻章区政府办公室', 'type': '业务投诉', 'pub_url': 'http://www.zjmazhang.gov.cn/hdjlpt/detail?pid=538178', 'summaries': [{'id': 6443, 'org_id': 759010, 'site_id': 759010, 'name': '建筑施工', 'is_sqzx': 0, 'sort': 5, 'valid': 1, 'deleted_at': None}]}, {'id': 557167, 'site_id': 759010, 'nickname': '坚韧如松', 'title': '2020年农艺师职称申请要求', 'content': '想了解一下最新的有关中级农艺师申请的要求，或在哪里查看，抑或哪里下载有关说明', 'time': 1585726965, 'handle_code': 'B20200401240', 'summary': '扶贫专栏', 'reply': '<p>您好！中级农艺师职称的评审工作由湛江市农业中级专业技术资格评审委员会组织实施，湛江市农业中级专业技术资格评审委员会地址位于湛江市赤坎百园路63号湛江市农业农村局，联系电话3220080。根据历年的评审情况，每年职称评审工作在8月后开展，2020年中级农艺师职称的评审要求和具体时间请以湛江市农业中级专业技术资格评审委员会的评审通知为准，可在湛江市农业农村局官方网站上进行查询：http://nyncj.zhanjiang.gov.cn/</p><p><br/></p>', 'reply_time': 1585899086, 'org_name': '湛江市麻章区政府办公室', 'type': '业务咨询', 'pub_url': 'http://www.zjmazhang.gov.cn/hdjlpt/detail?pid=557167', 'summaries': [{'id': 6441, 'org_id': 759010, 'site_id': 759010, 'name': '扶贫专栏', 'is_sqzx': 0, 'sort': 3, 'valid': 1, 'deleted_at': None}]}, {'id': 522058, 'site_id': 759010, 'nickname': '程女士', 'title': '麻章区育才中路28号甜心宠物店斜对面有人施工扰民', 'content': '程女士反映麻章区育才中路28号甜心宠物店斜对面有人施工建房，目前正在打地基，每天07:00-14:00都在施工，且周末亦在施工。其表示施工噪音已严重影响周边居民的正常生活，现希望相关部门尽快处理。（备注：请职能部门勿泄露市民信息）\\n2019-12-21 13:44:16', 'time': 1576910656, 'handle_code': 'B20200107260', 'summary': '建筑施工', 'reply': '<p>麻章区城综局规划中队已派员跟进处理，并要求该在建工程的相关当事人严格按照法定时间进行施工作业，同时采取必要的降噪防尘措施。下步，区城综局会要求相关中队继续做好跟踪监管工作。</p>', 'reply_time': 1578140400, 'org_name': '湛江市麻章区政府办公室', 'type': '领导信箱', 'pub_url': 'http://www.zjmazhang.gov.cn/hdjlpt/detail?pid=522058', 'summaries': [{'id': 6443, 'org_id': 759010, 'site_id': 759010, 'name': '建筑施工', 'is_sqzx': 0, 'sort': 5, 'valid': 1, 'deleted_at': None}]}, {'id': 522046, 'site_id': 759010, 'nickname': '黄先生', 'title': '麻章区民乐中街22号三生三茶奶茶店深夜噪音扰民', 'content': '麻章区民乐中街22号三生三茶奶茶店每天00:00仍在播放高音音乐扰民，同时日常播放的音乐声也过大。现希望有关部门尽快处理。', 'time': 1576944590, 'handle_code': 'B20200107250', 'summary': '环境整治', 'reply': '<p>麻章区城综局辖区中队已派员跟进，并责令该店人员在夜间时分停止使用高音喇叭进行娱乐活动。下步，区城综局会要求相关中队继续做好跟踪监管工作。</p>', 'reply_time': 1578138561, 'org_name': '湛江市麻章区政府办公室', 'type': '领导信箱', 'pub_url': 'http://www.zjmazhang.gov.cn/hdjlpt/detail?pid=522046', 'summaries': [{'id': 6440, 'org_id': 759010, 'site_id': 759010, 'name': '环境整治', 'is_sqzx': 0, 'sort': 2, 'valid': 1, 'deleted_at': None}]}, {'id': 522057, 'site_id': 759010, 'nickname': '李先生', 'title': '麻章区瑞云北路鸿运幼儿园噪音扰民', 'content': '李先生反映麻章区瑞云北路鸿运幼儿园每周六周日中午正常休息时间段都有几个小孩在大吵大闹，没有人管理，产生噪音严重影响周边居民的正常休息，现希望相关部门尽快处理。2019-12-21 14:28:42', 'time': 1576909722, 'handle_code': 'B20200107259', 'summary': '环境整治', 'reply': '<p>关于李先生反映麻章区鸿运幼儿园噪音扰民的情况答复:我局在12月21日接到你们转来的“麻章区瑞云北路鸿运幼儿园噪音扰民”的投诉后，局领导非常重视，要求相关股室进行调查，调查情况以下：经查，麻章区鸿运幼儿园周末没有幼儿回园活动，平时是园长家属和亲戚家4、5个小孩在园内玩耍。区教育局与园长沟通了中午时间段管理好小孩大声喧闹情况，园长也表示，今后管理好小孩，中午休息时间段尽量注意不影响周围居民。</p>', 'reply_time': 1578053885, 'org_name': '湛江市麻章区政府办公室', 'type': '领导信箱', 'pub_url': 'http://www.zjmazhang.gov.cn/hdjlpt/detail?pid=522057', 'summaries': [{'id': 6440, 'org_id': 759010, 'site_id': 759010, 'name': '环境整治', 'is_sqzx': 0, 'sort': 2, 'valid': 1, 'deleted_at': None}]}, {'id': 522048, 'site_id': 759010, 'nickname': '朱先生', 'title': '麻章区金川路口长城网吧允许未成年人进入上网', 'content': '麻章区金川路口的长城网吧每周五、六均有大量未成年人进入上网，现希望相关部门尽快调查处理', 'time': 1576934377, 'handle_code': 'B20200107251', 'summary': '环境整治', 'reply': '<p>接报后，我局领导十分重视，立即指示文化市场综合执法一科对此事进行调查处理。按照局领导指示，文化市场综合执法一科的执法人员分别于12月27日11时20分、28日15时30分赶赴麻章区金川路口长城网吧，对该网吧场所进行了突击检查。经现场检查核实，该网吧当时正在营业中，未发现有未成年人进入的现象，鉴于有群众投诉该网吧允许未成年人进入上网的现象，执法人员调取文网卫士监管平台，对近期的上网记录进行了核查，均未发现有未成年人进入行为。执法人员找到场所负责人宣讲了相关的法律法规，讲明网吧接纳未成年人进入营业场所是违法行为，并告诫他们要守法经营，不得接纳未成年人进入营业场所，否则，一经发现，将严厉查处。12月30日15时30分执法人员又赶赴该场所进行检查，亦未发现违规经营行为。今后，我们将进一步加大巡查力度，严查网吧接纳未成年人进入现象。</p>', 'reply_time': 1578052333, 'org_name': '湛江市麻章区政府办公室', 'type': '领导信箱', 'pub_url': 'http://www.zjmazhang.gov.cn/hdjlpt/detail?pid=522048', 'summaries': [{'id': 6440, 'org_id': 759010, 'site_id': 759010, 'name': '环境整治', 'is_sqzx': 0, 'sort': 2, 'valid': 1, 'deleted_at': None}]}, {'id': 522056, 'site_id': 759010, 'nickname': '顾先生', 'title': '麻章区海大路1号广东海洋大学教工宿舍楼22栋605房施工噪音扰民', 'content': '顾先生反映麻章区海大路1号广东海洋大学教工宿舍楼22栋605房每天中午正常休息时间段都在施工，产生噪音严重影响附近居民正常休息，希望相关部门尽快处理。2019-12-21 15:22:31', 'time': 1576912951, 'handle_code': 'B20200107258', 'summary': '建筑施工', 'reply': '<p>该诉求反映的问题属于海洋大学内部管理问题，热线办建议市民向学校宿舍管理处反映。</p>', 'reply_time': 1577880987, 'org_name': '湛江市麻章区政府办公室', 'type': '领导信箱', 'pub_url': 'http://www.zjmazhang.gov.cn/hdjlpt/detail?pid=522056', 'summaries': [{'id': 6443, 'org_id': 759010, 'site_id': 759010, 'name': '建筑施工', 'is_sqzx': 0, 'sort': 5, 'valid': 1, 'deleted_at': None}]}], 'name': None}, 'trigger': None}\n"
     ]
    }
   ],
   "source": [
    "import requests\n",
    "headers = {\n",
    "    'User-Agent': 'Mozilla/5.0 (Windows NT 10.0; Win64; x64) AppleWebKit/537.36 (KHTML, like Gecko) Chrome/90.0.4430.85 Safari/537.36 Edg/90.0.818.49'\n",
    "    ,'Cookie':'zh_choose=n; XSRF-TOKEN=eyJpdiI6ImozS3ZuTUwrWVpcL1M1OXE5S0xFeFdnPT0iLCJ2YWx1ZSI6InhqMlhsZ1ltK2pxVHhIMWtEcGZDOTRCK2p4elNPSGk5bXU5ejE0VlBHbG9sSlprd09qV2d4eU5PeTdoYXRmeVIiLCJtYWMiOiIxZjViOTUyYjRiNjQzMzNkYTA1NmMxNmZmZTBiYjIxODZkZDAzZWJmNDZhZGQzZjZiNTQxMmI2ZTA4M2JjYTUzIn0%3D; szxx_session=eyJpdiI6IjBpYWtcL2psWmR0UUJcL3llQmJReGJRQT09IiwidmFsdWUiOiJWZTZTSHJhMHpMMktma0xhMWtkaWFYb2J5TWV5YXFUMklEMWhBazdCZnVZbHRSYTZIdk1QS3RwWVVVVU5YWkYxIiwibWFjIjoiMGFhMjQxMTM0ZjAwZmJmOGE3NjhkOWU4ZTRhNjZkZmIxMTE3OGYzMzZlYzA5YzdjOTEzMzQ5N2JhNWMyY2U3YiJ9'\n",
    "    ,'Origin': 'http://www.zjmazhang.gov.cn'\n",
    "    ,'Referer': 'http://www.zjmazhang.gov.cn/hdjlpt/published?via=pa'\n",
    "    ,'X-CSRF-TOKEN': 'GjaxzuGUK6NRAEM4GOcHzmWA0hgDzoyaC72uL915'}\n",
    "url='http://www.zjmazhang.gov.cn/hdjlpt/letter/pubList'\n",
    "from_data ={'offset': '0',\n",
    "            'limit': '20',\n",
    "            'site_id': '759010'}\n",
    "response = requests.post(url,headers=headers,data=from_data)\n",
    "print(response)\n",
    "print(response.json())"
   ]
  },
  {
   "cell_type": "code",
   "execution_count": null,
   "metadata": {},
   "outputs": [],
   "source": []
  }
 ],
 "metadata": {
  "kernelspec": {
   "display_name": "Python 3",
   "language": "python",
   "name": "python3"
  },
  "language_info": {
   "codemirror_mode": {
    "name": "ipython",
    "version": 3
   },
   "file_extension": ".py",
   "mimetype": "text/x-python",
   "name": "python",
   "nbconvert_exporter": "python",
   "pygments_lexer": "ipython3",
   "version": "3.7.0"
  }
 },
 "nbformat": 4,
 "nbformat_minor": 2
}
